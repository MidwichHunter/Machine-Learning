{
 "cells": [
  {
   "cell_type": "markdown",
   "id": "84d93e6b-3733-4496-9807-c5202486052f",
   "metadata": {},
   "source": [
    "# Лабораторная работа № 1 - Pandas"
   ]
  },
  {
   "cell_type": "markdown",
   "id": "471f7bd3-655e-4220-8cd2-720e9232266f",
   "metadata": {},
   "source": [
    "## Импортируем библиотеки"
   ]
  },
  {
   "cell_type": "code",
   "execution_count": 2,
   "id": "31f0ced7-89d8-4d91-b6cf-962dfb4c07ac",
   "metadata": {},
   "outputs": [],
   "source": [
    "import pandas as pd\n",
    "import numpy as np\n",
    "import matplotlib.pyplot as plt\n",
    "import seaborn as sns\n",
    "\n",
    "df = pd.read_csv('mall_customers.csv')"
   ]
  },
  {
   "cell_type": "markdown",
   "id": "eb7a116e-48df-499e-b04e-e062befba8b7",
   "metadata": {},
   "source": [
    "## №3 Выводим первые 10 строк датасета"
   ]
  },
  {
   "cell_type": "code",
   "execution_count": 6,
   "id": "44fc85f8-1a75-4052-b8c3-9084137dfcd6",
   "metadata": {},
   "outputs": [
    {
     "data": {
      "text/html": [
       "<div>\n",
       "<style scoped>\n",
       "    .dataframe tbody tr th:only-of-type {\n",
       "        vertical-align: middle;\n",
       "    }\n",
       "\n",
       "    .dataframe tbody tr th {\n",
       "        vertical-align: top;\n",
       "    }\n",
       "\n",
       "    .dataframe thead th {\n",
       "        text-align: right;\n",
       "    }\n",
       "</style>\n",
       "<table border=\"1\" class=\"dataframe\">\n",
       "  <thead>\n",
       "    <tr style=\"text-align: right;\">\n",
       "      <th></th>\n",
       "      <th>CustomerID</th>\n",
       "      <th>Genre</th>\n",
       "      <th>Age</th>\n",
       "      <th>Annual Income (k$)</th>\n",
       "      <th>Spending Score (1-100)</th>\n",
       "    </tr>\n",
       "  </thead>\n",
       "  <tbody>\n",
       "    <tr>\n",
       "      <th>0</th>\n",
       "      <td>1</td>\n",
       "      <td>Male</td>\n",
       "      <td>19</td>\n",
       "      <td>15</td>\n",
       "      <td>39</td>\n",
       "    </tr>\n",
       "    <tr>\n",
       "      <th>1</th>\n",
       "      <td>2</td>\n",
       "      <td>Male</td>\n",
       "      <td>21</td>\n",
       "      <td>15</td>\n",
       "      <td>81</td>\n",
       "    </tr>\n",
       "    <tr>\n",
       "      <th>2</th>\n",
       "      <td>3</td>\n",
       "      <td>Female</td>\n",
       "      <td>20</td>\n",
       "      <td>16</td>\n",
       "      <td>6</td>\n",
       "    </tr>\n",
       "    <tr>\n",
       "      <th>3</th>\n",
       "      <td>4</td>\n",
       "      <td>Female</td>\n",
       "      <td>23</td>\n",
       "      <td>16</td>\n",
       "      <td>77</td>\n",
       "    </tr>\n",
       "    <tr>\n",
       "      <th>4</th>\n",
       "      <td>5</td>\n",
       "      <td>Female</td>\n",
       "      <td>31</td>\n",
       "      <td>17</td>\n",
       "      <td>40</td>\n",
       "    </tr>\n",
       "    <tr>\n",
       "      <th>5</th>\n",
       "      <td>6</td>\n",
       "      <td>Female</td>\n",
       "      <td>22</td>\n",
       "      <td>17</td>\n",
       "      <td>76</td>\n",
       "    </tr>\n",
       "    <tr>\n",
       "      <th>6</th>\n",
       "      <td>7</td>\n",
       "      <td>Female</td>\n",
       "      <td>35</td>\n",
       "      <td>18</td>\n",
       "      <td>6</td>\n",
       "    </tr>\n",
       "    <tr>\n",
       "      <th>7</th>\n",
       "      <td>8</td>\n",
       "      <td>Female</td>\n",
       "      <td>23</td>\n",
       "      <td>18</td>\n",
       "      <td>94</td>\n",
       "    </tr>\n",
       "    <tr>\n",
       "      <th>8</th>\n",
       "      <td>9</td>\n",
       "      <td>Male</td>\n",
       "      <td>64</td>\n",
       "      <td>19</td>\n",
       "      <td>3</td>\n",
       "    </tr>\n",
       "    <tr>\n",
       "      <th>9</th>\n",
       "      <td>10</td>\n",
       "      <td>Female</td>\n",
       "      <td>30</td>\n",
       "      <td>19</td>\n",
       "      <td>72</td>\n",
       "    </tr>\n",
       "  </tbody>\n",
       "</table>\n",
       "</div>"
      ],
      "text/plain": [
       "   CustomerID   Genre  Age  Annual Income (k$)  Spending Score (1-100)\n",
       "0           1    Male   19                  15                      39\n",
       "1           2    Male   21                  15                      81\n",
       "2           3  Female   20                  16                       6\n",
       "3           4  Female   23                  16                      77\n",
       "4           5  Female   31                  17                      40\n",
       "5           6  Female   22                  17                      76\n",
       "6           7  Female   35                  18                       6\n",
       "7           8  Female   23                  18                      94\n",
       "8           9    Male   64                  19                       3\n",
       "9          10  Female   30                  19                      72"
      ]
     },
     "execution_count": 6,
     "metadata": {},
     "output_type": "execute_result"
    }
   ],
   "source": [
    "df.head(10)"
   ]
  },
  {
   "cell_type": "markdown",
   "id": "4f6906b2-933a-412e-a337-e85343681988",
   "metadata": {},
   "source": [
    "## №4 Размер Датафрейма"
   ]
  },
  {
   "cell_type": "code",
   "execution_count": 7,
   "id": "795b2df7-bbf9-48d2-8381-8571de762a58",
   "metadata": {
    "scrolled": true
   },
   "outputs": [
    {
     "name": "stdout",
     "output_type": "stream",
     "text": [
      "Строк: 200, Столбцов: 5\n"
     ]
    }
   ],
   "source": [
    "print(f\"Строк: {df.shape[0]}, Столбцов: {df.shape[1]}\")"
   ]
  },
  {
   "cell_type": "markdown",
   "id": "f45a02c9-add3-4f8b-8a96-4b42de89cfc1",
   "metadata": {},
   "source": [
    "## №5 Информация о датафрейме"
   ]
  },
  {
   "cell_type": "code",
   "execution_count": 8,
   "id": "2e6fc896-a7ef-4ed6-8070-529c473b5173",
   "metadata": {},
   "outputs": [
    {
     "name": "stdout",
     "output_type": "stream",
     "text": [
      "<class 'pandas.core.frame.DataFrame'>\n",
      "RangeIndex: 200 entries, 0 to 199\n",
      "Data columns (total 5 columns):\n",
      " #   Column                  Non-Null Count  Dtype \n",
      "---  ------                  --------------  ----- \n",
      " 0   CustomerID              200 non-null    int64 \n",
      " 1   Genre                   200 non-null    object\n",
      " 2   Age                     200 non-null    int64 \n",
      " 3   Annual Income (k$)      200 non-null    int64 \n",
      " 4   Spending Score (1-100)  200 non-null    int64 \n",
      "dtypes: int64(4), object(1)\n",
      "memory usage: 7.9+ KB\n"
     ]
    }
   ],
   "source": [
    "df.info()"
   ]
  },
  {
   "cell_type": "markdown",
   "id": "dd6cda14-1bc8-4a7e-a32f-6a6a2e5dbbaa",
   "metadata": {},
   "source": [
    "## №6 Процент женщин и мужчин"
   ]
  },
  {
   "cell_type": "code",
   "execution_count": 9,
   "id": "d6afe25f-8710-4730-afcd-ff62460ff968",
   "metadata": {},
   "outputs": [
    {
     "name": "stdout",
     "output_type": "stream",
     "text": [
      "Мужчины: 44.0%\n",
      "Женщины: 56.0%\n"
     ]
    }
   ],
   "source": [
    "gender_counts = df['Genre'].value_counts(normalize=True) * 100\n",
    "print(f\"Мужчины: {gender_counts['Male']:.1f}%\")\n",
    "print(f\"Женщины: {gender_counts['Female']:.1f}%\")"
   ]
  },
  {
   "cell_type": "markdown",
   "id": "250e6dac-1e68-43de-a532-cbed23a6a694",
   "metadata": {},
   "source": [
    "## №7 Индекс набора данных "
   ]
  },
  {
   "cell_type": "code",
   "execution_count": 10,
   "id": "bffaec58-5c91-4a3f-b95c-c18d49ac91d7",
   "metadata": {},
   "outputs": [
    {
     "name": "stdout",
     "output_type": "stream",
     "text": [
      "Текущий индекс: None\n"
     ]
    }
   ],
   "source": [
    "print(f\"Текущий индекс: {df.index.name}\")"
   ]
  },
  {
   "cell_type": "markdown",
   "id": "2bf1a000-3c49-4d1a-ab69-c29239697533",
   "metadata": {},
   "source": [
    "## №8 Меняем индекс на Genre"
   ]
  },
  {
   "cell_type": "code",
   "execution_count": 13,
   "id": "10601d18-45c5-4756-a7c8-1c0c44b47040",
   "metadata": {},
   "outputs": [
    {
     "name": "stdout",
     "output_type": "stream",
     "text": [
      "Текущий индекс: Genre\n"
     ]
    }
   ],
   "source": [
    "df = df.set_index('Genre')\n",
    "print(f\"Текущий индекс: {df.index.name}\")"
   ]
  },
  {
   "cell_type": "markdown",
   "id": "2991c605-9247-4aaf-9ff8-b54cf6501474",
   "metadata": {},
   "source": [
    "## №9 Наибольшее и наименьшее значение годового дохода по Genre"
   ]
  },
  {
   "cell_type": "code",
   "execution_count": 17,
   "id": "2266e460-c666-4d3d-b292-42211464f4a8",
   "metadata": {},
   "outputs": [
    {
     "name": "stdout",
     "output_type": "stream",
     "text": [
      "Максимальный доход: Genre\n",
      "Female    126\n",
      "Male      137\n",
      "Name: Annual Income (k$), dtype: int64, Минимальный доход: Genre\n",
      "Female    16\n",
      "Male      15\n",
      "Name: Annual Income (k$), dtype: int64\n"
     ]
    }
   ],
   "source": [
    "goods = df.groupby('Genre')\n",
    "print(f'Максимальный доход: {goods['Annual Income (k$)'].max()}, Минимальный доход: {goods['Annual Income (k$)'].min()}')"
   ]
  },
  {
   "cell_type": "markdown",
   "id": "260d38e0-667b-48c9-a253-6f5158556b82",
   "metadata": {},
   "source": [
    "## №10 Взаимосвязь между полом и годовым доходом"
   ]
  },
  {
   "cell_type": "code",
   "execution_count": 23,
   "id": "bde96dba-6602-4ea0-9e65-4ce6ab0f8510",
   "metadata": {},
   "outputs": [
    {
     "name": "stdout",
     "output_type": "stream",
     "text": [
      "Доход: Genre\n",
      "Female    59.250000\n",
      "Male      62.227273\n",
      "Name: Annual Income (k$), dtype: float64\n"
     ]
    }
   ],
   "source": [
    "meanMoney = goods['Annual Income (k$)'].mean()\n",
    "print(f'Доход: {meanMoney}')"
   ]
  },
  {
   "cell_type": "markdown",
   "id": "e893cd53-9df4-44b8-9bbf-7b1f177337be",
   "metadata": {},
   "source": [
    "### Дополнение: Средний доход мужчин незначительно выше, чем у женщин. \n",
    "### Разница составляет около 3%, что, вероятно, не является существенной взаимосвязью.."
   ]
  },
  {
   "cell_type": "markdown",
   "id": "780e881a-a440-468a-92d2-b79a3fb2a2b2",
   "metadata": {},
   "source": [
    "## №11 наибольшее и наименьшее значение рейтинга трат в категории Genre"
   ]
  },
  {
   "cell_type": "code",
   "execution_count": 22,
   "id": "6e070000-0599-4a1e-b8c4-023e4619628d",
   "metadata": {},
   "outputs": [
    {
     "name": "stdout",
     "output_type": "stream",
     "text": [
      "Максимальный рейтинг: Genre\n",
      "Female    99\n",
      "Male      97\n",
      "Name: Spending Score (1-100), dtype: int64, Минимальный рейтинг: Genre\n",
      "Female    5\n",
      "Male      1\n",
      "Name: Spending Score (1-100), dtype: int64\n"
     ]
    }
   ],
   "source": [
    "print(f'Максимальный рейтинг: {goods['Spending Score (1-100)'].max()}, Минимальный рейтинг: {goods['Spending Score (1-100)'].min()}')"
   ]
  },
  {
   "cell_type": "markdown",
   "id": "070fa25f-d602-4206-b97a-b56217dee25a",
   "metadata": {},
   "source": [
    "## №12 Взаимосвязь между полом и рейтингом трат"
   ]
  },
  {
   "cell_type": "code",
   "execution_count": 24,
   "id": "df0f643f-858e-4079-8daf-ca81d19ef8bb",
   "metadata": {},
   "outputs": [
    {
     "name": "stdout",
     "output_type": "stream",
     "text": [
      "Рейтинг: Genre\n",
      "Female    51.526786\n",
      "Male      48.511364\n",
      "Name: Spending Score (1-100), dtype: float64\n"
     ]
    }
   ],
   "source": [
    "meanScore = goods['Spending Score (1-100)'].mean()\n",
    "print(f'Рейтинг: {meanScore}')"
   ]
  },
  {
   "cell_type": "markdown",
   "id": "66093b8d-9c4b-4c04-a94e-50eed2021ea9",
   "metadata": {},
   "source": [
    "### Дополнение: Средний рейтинг у женщин незначительно выше, чем у мужчин. \n",
    "### Разница составляет около 3%, что, вероятно, не является существенной взаимосвязью.."
   ]
  },
  {
   "cell_type": "markdown",
   "id": "fb75bd97-263c-4018-8bcc-cd015ce6d82b",
   "metadata": {},
   "source": [
    "## №13 Как зависит рейтинг трат от годового дохода?"
   ]
  },
  {
   "cell_type": "code",
   "execution_count": 26,
   "id": "771af8d5-7a36-4c0f-846b-89de12cbf867",
   "metadata": {},
   "outputs": [
    {
     "data": {
      "image/png": "[encoded data removed]",
      "text/plain": [
       "<Figure size 640x480 with 1 Axes>"
      ]
     },
     "metadata": {},
     "output_type": "display_data"
    }
   ],
   "source": [
    "plt.scatter(x=df['Annual Income (k$)'], y=df['Spending Score (1-100)'])\n",
    "plt.show()"
   ]
  },
  {
   "cell_type": "markdown",
   "id": "500ef59e-074c-4ce3-b773-2973feac0e34",
   "metadata": {},
   "source": [
    "### Дополнение: Четкой линейной зависимости не обнаружено. Данные сегментированы на несколько групп потребителей с разным сочетанием дохода и покупательской активности"
   ]
  },
  {
   "cell_type": "markdown",
   "id": "8deb8af3-7270-4105-8ee2-68b2a2d4a8d6",
   "metadata": {},
   "source": [
    "## №14 Сводка статистик для столбца Annual Income "
   ]
  },
  {
   "cell_type": "code",
   "execution_count": 27,
   "id": "bb417163-13d4-40c0-98d1-340ec5c2b3e4",
   "metadata": {},
   "outputs": [
    {
     "name": "stdout",
     "output_type": "stream",
     "text": [
      "count    200.000000\n",
      "mean      60.560000\n",
      "std       26.264721\n",
      "min       15.000000\n",
      "25%       41.500000\n",
      "50%       61.500000\n",
      "75%       78.000000\n",
      "max      137.000000\n",
      "Name: Annual Income (k$), dtype: float64\n"
     ]
    }
   ],
   "source": [
    "# 14. Преобразуем доход в float\n",
    "df['Annual Income (k$)'] = df['Annual Income (k$)'].astype(float)\n",
    "\n",
    "# Статистика по доходу\n",
    "print(df['Annual Income (k$)'].describe())"
   ]
  },
  {
   "cell_type": "markdown",
   "id": "075d028f-89bf-425b-835a-c9b2b319b986",
   "metadata": {},
   "source": [
    "## №15 Три датафрейма по рейтингу трат"
   ]
  },
  {
   "cell_type": "code",
   "execution_count": 28,
   "id": "bf33f466-e471-46fe-acb5-95fb8ca07a1e",
   "metadata": {},
   "outputs": [
    {
     "name": "stdout",
     "output_type": "stream",
     "text": [
      "Низкий рейтинг: 49 клиентов\n",
      "Средний рейтинг: 94 клиентов\n",
      "Высокий рейтинг: 57 клиентов\n"
     ]
    }
   ],
   "source": [
    "low_spending = df[df['Spending Score (1-100)'] < 34]\n",
    "medium_spending = df[(df['Spending Score (1-100)'] >= 34) & (df['Spending Score (1-100)'] <= 67)]\n",
    "high_spending = df[df['Spending Score (1-100)'] > 67]\n",
    "\n",
    "print(f\"Низкий рейтинг: {len(low_spending)} клиентов\")\n",
    "print(f\"Средний рейтинг: {len(medium_spending)} клиентов\") \n",
    "print(f\"Высокий рейтинг: {len(high_spending)} клиентов\")"
   ]
  },
  {
   "cell_type": "code",
   "execution_count": null,
   "id": "e0262da2-cf29-41d4-bd80-fa78b65ebd9c",
   "metadata": {},
   "outputs": [],
   "source": []
  }
 ],
 "metadata": {
  "kernelspec": {
   "display_name": "Python [conda env:base] *",
   "language": "python",
   "name": "conda-base-py"
  },
  "language_info": {
   "codemirror_mode": {
    "name": "ipython",
    "version": 3
   },
   "file_extension": ".py",
   "mimetype": "text/x-python",
   "name": "python",
   "nbconvert_exporter": "python",
   "pygments_lexer": "ipython3",
   "version": "3.13.5"
  }
 },
 "nbformat": 4,
 "nbformat_minor": 5
}
